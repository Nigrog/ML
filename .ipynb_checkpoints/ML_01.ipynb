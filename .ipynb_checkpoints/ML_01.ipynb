{
 "cells": [
  {
   "cell_type": "markdown",
   "id": "a3e11311",
   "metadata": {},
   "source": [
    "Preparation"
   ]
  },
  {
   "cell_type": "code",
   "execution_count": null,
   "id": "a5b9a038",
   "metadata": {},
   "outputs": [],
   "source": [
    "import pandas as pd\n",
    "def getPandasDataFrameFromCsvFromUrl(url):\n",
    "    import requests, io\n",
    "    \n",
    "    session = requests.Session()\n",
    "    rawdata = session.get( url, headers={\"Content-Type\":\"application/json\"}).text\n",
    "\n",
    "    return pd.read_csv( io.StringIO(rawdata) )\n"
   ]
  },
  {
   "cell_type": "markdown",
   "id": "117337a7",
   "metadata": {},
   "source": [
    "Question 1 and 2: Version and DataFrame length"
   ]
  },
  {
   "cell_type": "code",
   "execution_count": null,
   "id": "e8f58b26",
   "metadata": {},
   "outputs": [
    {
     "name": "stdout",
     "output_type": "stream",
     "text": [
      "Pandas version is: 2.3.1.\n",
      "CSV Data fetched from URL: https://raw.githubusercontent.com/alexeygrigorev/datasets/master/car_fuel_efficiency.csv into 'df'\n",
      "It contains 9704 rows and 11 columns, heres the first 5 entries using df.head():\n",
      "   engine_displacement  num_cylinders  horsepower  vehicle_weight  \\\n",
      "0                  170            3.0       159.0     3413.433759   \n",
      "1                  130            5.0        97.0     3149.664934   \n",
      "2                  170            NaN        78.0     3079.038997   \n",
      "3                  220            4.0         NaN     2542.392402   \n",
      "4                  210            1.0       140.0     3460.870990   \n",
      "\n",
      "   acceleration  model_year  origin fuel_type         drivetrain  num_doors  \\\n",
      "0          17.7        2003  Europe  Gasoline    All-wheel drive        0.0   \n",
      "1          17.8        2007     USA  Gasoline  Front-wheel drive        0.0   \n",
      "2          15.1        2018  Europe  Gasoline  Front-wheel drive        0.0   \n",
      "3          20.2        2009     USA    Diesel    All-wheel drive        2.0   \n",
      "4          14.4        2009  Europe  Gasoline    All-wheel drive        2.0   \n",
      "\n",
      "   fuel_efficiency_mpg  \n",
      "0            13.231729  \n",
      "1            13.688217  \n",
      "2            14.246341  \n",
      "3            16.912736  \n",
      "4            12.488369  \n"
     ]
    }
   ],
   "source": [
    "\n",
    "print( f\"Pandas version is: {pd.__version__}.\" )\n",
    "print( f\"CSV Data fetched from URL: {url} into 'df'\" )\n",
    "print( f\"It contains {len(df)} rows and {len(df.columns)} columns, heres the first 5 entries using df.head():\" )\n",
    "print( df.head() )\n"
   ]
  },
  {
   "cell_type": "markdown",
   "id": "7af8591e",
   "metadata": {},
   "source": [
    "Question 3: Fuel Types"
   ]
  },
  {
   "cell_type": "code",
   "execution_count": 42,
   "id": "f98f43a7",
   "metadata": {},
   "outputs": [
    {
     "name": "stdout",
     "output_type": "stream",
     "text": [
      "There are 2 distinct types of fuel-type: Gasoline, Diesel.\n"
     ]
    }
   ],
   "source": [
    "distinctFuelTypesCount = len( df.groupby(\"fuel_type\"))\n",
    "distinctFuelTypes =list( { i for i in df.fuel_type})\n",
    "print( f\"There are {distinctFuelTypesCount} distinct types of fuel-type: {', '.join(distinctFuelTypes)}.\" )"
   ]
  },
  {
   "cell_type": "markdown",
   "id": "d29256b2",
   "metadata": {},
   "source": [
    "Question 4: Missing Values"
   ]
  },
  {
   "cell_type": "code",
   "execution_count": 73,
   "id": "ecc31ec6",
   "metadata": {},
   "outputs": [
    {
     "name": "stdout",
     "output_type": "stream",
     "text": [
      "There are 4 cols that contain at least one empty cell: num_cylinders, horsepower, acceleration, num_doors\n"
     ]
    }
   ],
   "source": [
    "\n",
    "columnsWithNull = df.columns[df.isnull().any()]\n",
    "print( f\"There are {len(columnsWithNull)} cols that contain at least one empty cell: {', '.join(columnsWithNull)}\" )"
   ]
  },
  {
   "cell_type": "markdown",
   "id": "65a4f2ff",
   "metadata": {},
   "source": [
    "Question 5: Max Fuel Efficiency"
   ]
  },
  {
   "cell_type": "code",
   "execution_count": null,
   "id": "3396b6e7",
   "metadata": {},
   "outputs": [
    {
     "name": "stdout",
     "output_type": "stream",
     "text": [
      "The best fuel efficiency of all cars made in asia is: 23.76\n"
     ]
    }
   ],
   "source": [
    "fuelEfficiencyAsianCars = df[ df['origin'] == \"Asia\" ].fuel_efficiency_mpg\n",
    "print( f\"The best fuel efficiency of all cars made in asia is: {max(fuelEfficiencyAsianCars):>0.2f}\" )"
   ]
  },
  {
   "cell_type": "markdown",
   "id": "02887604",
   "metadata": {},
   "source": [
    "Question 6: Median Value of Horsepower"
   ]
  },
  {
   "cell_type": "code",
   "execution_count": null,
   "id": "153a580c",
   "metadata": {},
   "outputs": [
    {
     "name": "stdout",
     "output_type": "stream",
     "text": [
      "Median of horsepower using built-in method .median() is: 149.0\n",
      "Highest value is 271.0\n",
      "Most frequent value is 152.0\n",
      "Most frequent value is 152.0 - it has NOT changed the outcome if .idxmax().\n",
      "Median of horsepower using built-in method .median() is: 149.0\n"
     ]
    }
   ],
   "source": [
    "medianHP = df.horsepower.median()\n",
    "print( f\"Median of horsepower using built-in method .median() is: {medianHP}\" )\n",
    "print( f\"Highest value is {max(df.horsepower)}\")\n",
    "mostCommon = df['horsepower'].value_counts().idxmax()\n",
    "print( f\"Most frequent value is {mostCommon}\")\n",
    "df.horsepower.fillna(mostCommon)\n",
    "mostCommonAfterFillNA = df['horsepower'].value_counts().idxmax()\n",
    "max(df.horsepower)\n",
    "print( f\"Most frequent value is {mostCommonAfterFillNA} - it has {\"NOT\" if mostCommon == mostCommonAfterFillNA else \"INDEED\"} changed the outcome if .idxmax().\")\n",
    "print( f\"Median of horsepower using built-in method .median() is: {medianHP}\" )\n"
   ]
  },
  {
   "cell_type": "markdown",
   "id": "cfefd8b6",
   "metadata": {},
   "source": [
    "Question 7: Sm of Weights"
   ]
  },
  {
   "cell_type": "code",
   "execution_count": 107,
   "id": "70ece0f6",
   "metadata": {},
   "outputs": [
    {
     "name": "stdout",
     "output_type": "stream",
     "text": [
      "    vehicle_weight  model_year\n",
      "8      2714.219310        2016\n",
      "12     2783.868974        2010\n",
      "14     3582.687368        2007\n",
      "20     2231.808142        2011\n",
      "21     2659.431451        2016\n",
      "34     2844.227534        2014\n",
      "38     3761.994038        2019\n",
      "The variable w contains the value [0.01386421 0.5049067 ]\n",
      "The sum of all the elements of the result ist 0.5187709081074016\n"
     ]
    }
   ],
   "source": [
    "import numpy as np\n",
    "\n",
    "# Only cars from Asia\n",
    "originAsia = df[ df['origin']  == 'Asia' ]\n",
    "\n",
    "# Apply filter: only look at those cols and the first 7 rows\n",
    "weightAndYear = originAsia[ ['vehicle_weight' , 'model_year' ] ]\n",
    "weightAndYear = weightAndYear.head( 7 )\n",
    "\n",
    "print( weightAndYear )\n",
    "\n",
    "# Exactly as per task requested: create X and XTX\n",
    "X = weightAndYear.to_numpy()\n",
    "XTX = X.T.dot(X)\n",
    "XTX_inv = np.linalg.inv(XTX)\n",
    "\n",
    "# Exactly as per task requested: create y\n",
    "y = np.array([1100, 1300, 800, 900, 1000, 1100, 1200])\n",
    "\n",
    "\n",
    "# Exactly as per task requested: create w by using the inverse and call the transpose method and \"multiply\" with y.\n",
    "w = XTX_inv.dot(X.T).dot(y)\n",
    "print( f\"The variable w contains the value\", w)\n",
    "print( f\"The sum of all the elements of the result ist\", sum(w) )\n"
   ]
  }
 ],
 "metadata": {
  "kernelspec": {
   "display_name": "Python 3",
   "language": "python",
   "name": "python3"
  },
  "language_info": {
   "codemirror_mode": {
    "name": "ipython",
    "version": 3
   },
   "file_extension": ".py",
   "mimetype": "text/x-python",
   "name": "python",
   "nbconvert_exporter": "python",
   "pygments_lexer": "ipython3",
   "version": "3.12.1"
  }
 },
 "nbformat": 4,
 "nbformat_minor": 5
}
